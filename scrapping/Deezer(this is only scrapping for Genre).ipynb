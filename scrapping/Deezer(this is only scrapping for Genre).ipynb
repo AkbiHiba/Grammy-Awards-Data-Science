{
  "cells": [
    {
      "cell_type": "code",
      "execution_count": null,
      "metadata": {
        "id": "JgvFojULybEH"
      },
      "outputs": [],
      "source": [
        "import pandas as pd"
      ]
    },
    {
      "cell_type": "code",
      "execution_count": null,
      "metadata": {
        "id": "K-y0Ghu6-7QW"
      },
      "outputs": [],
      "source": [
        "# import requests\n",
        "\n",
        "# the_genre = []\n",
        "\n",
        "# def get_genre_from_deezer(artist_name, track_title):\n",
        "#     \"\"\"\n",
        "#     Mengambil genre dari Deezer untuk lagu tertentu berdasarkan nama artis dan judul lagu.\n",
        "#     Memastikan judul lagu dan nama artis sesuai untuk menghindari mismatch.\n",
        "#     \"\"\"\n",
        "#     # Menggunakan Deezer Search API untuk mencari lagu berdasarkan judul dan artis\n",
        "#     search_url = f\"https://api.deezer.com/search?q=artist:\\\"{artist_name}\\\" track:\\\"{track_title}\\\"\"\n",
        "#     response = requests.get(search_url)\n",
        "\n",
        "#     if response.status_code == 200:\n",
        "#         data = response.json()\n",
        "#         if data['data']:\n",
        "#             # Cari track dengan judul dan artis yang tepat\n",
        "#             for track_info in data['data']:\n",
        "#                 found_title = track_info['title'].lower()\n",
        "#                 found_artist = track_info['artist']['name'].lower()\n",
        "\n",
        "#                 # Validasi judul dan artis\n",
        "#                 if track_title.lower() in found_title and artist_name.lower() in found_artist:\n",
        "#                     track_id = track_info['id']\n",
        "#                     album_name = track_info['album']['title']\n",
        "\n",
        "#                     # Mendapatkan detail album untuk genre\n",
        "#                     album_id = track_info['album']['id']\n",
        "#                     album_url = f\"https://api.deezer.com/album/{album_id}\"\n",
        "#                     album_response = requests.get(album_url)\n",
        "\n",
        "#                     if album_response.status_code == 200:\n",
        "#                         album_data = album_response.json()\n",
        "#                         genre = album_data.get('genres', {}).get('data', [])\n",
        "#                         genre_names = [g['name'] for g in genre]\n",
        "#                         the_genre.append(genre_names[0])\n",
        "\n",
        "#                         print(f\"Track: {track_title}\")\n",
        "#                         print(f\"Artist: {artist_name}\")\n",
        "#                         print(f\"Album: {album_name}\")\n",
        "#                         print(f\"Genres: {genre_names[0]}\")\n",
        "\n",
        "#                         return genre_names\n",
        "#                     else:\n",
        "#                         print(\"Album data not found on Deezer.\")\n",
        "#                         return None\n",
        "\n",
        "#             print(\"No exact match found for the track and artist on Deezer.\")\n",
        "#             the_genre.append('None')\n",
        "#             return None\n",
        "#         else:\n",
        "#             print(\"Track not found on Deezer.\")\n",
        "#             the_genre.append('None')\n",
        "#             return None\n",
        "#     else:\n",
        "#         print(f\"Error fetching data from Deezer: {response.status_code}\")\n",
        "#         return None\n",
        "\n",
        "# # Fungsi baru untuk memproses 10 baris pertama dari CSV\n",
        "# def get_mbids_from_csv(file_path, max_rows=10):\n",
        "#     df = pd.read_csv(file_path)\n",
        "#     mbid_results = {}\n",
        "#     for index, row in df.head(max_rows).iterrows():\n",
        "#         artist_name = row['Artist']\n",
        "#         track_title = row['Cleaned Title']\n",
        "#         mbid = get_genre_from_deezer(artist_name, track_title)\n",
        "#         mbid_results[(artist_name, track_title)] = mbid\n",
        "#     return mbid_results\n",
        "\n",
        "# # Contoh penggunaan\n",
        "# csv_file_path = './clean_single_songs.csv'\n",
        "# mbid_results = get_mbids_from_csv(csv_file_path, max_rows=10)\n",
        "# print(\"MBID Results:\", mbid_results)\n",
        "\n"
      ]
    },
    {
      "cell_type": "code",
      "execution_count": null,
      "metadata": {
        "id": "8wtp6_LqFNWn"
      },
      "outputs": [],
      "source": [
        "# import requests\n",
        "# import pandas as pd\n",
        "# import time\n",
        "# from tqdm import tqdm  # Optional untuk progress bar\n",
        "\n",
        "# the_genre = []\n",
        "\n",
        "# def get_genre_from_deezer(artist_name, track_title, retry=3):\n",
        "#     \"\"\"\n",
        "#     Mengambil genre dari Deezer untuk lagu tertentu berdasarkan nama artis dan judul lagu.\n",
        "#     Memastikan judul lagu dan nama artis sesuai untuk menghindari mismatch.\n",
        "#     \"\"\"\n",
        "#     # Menggunakan Deezer Search API untuk mencari lagu berdasarkan judul dan artis\n",
        "#     search_url = f\"https://api.deezer.com/search?q=artist:\\\"{artist_name}\\\" track:\\\"{track_title}\\\"\"\n",
        "\n",
        "#     for attempt in range(retry):\n",
        "#         try:\n",
        "#             response = requests.get(search_url, timeout=5)\n",
        "\n",
        "#             if response.status_code == 200:\n",
        "#                 data = response.json()\n",
        "#                 if data['data']:\n",
        "#                     # Cari track dengan judul dan artis yang tepat\n",
        "#                     for track_info in data['data']:\n",
        "#                         found_title = track_info['title'].lower()\n",
        "#                         found_artist = track_info['artist']['name'].lower()\n",
        "\n",
        "#                         # Validasi judul dan artis\n",
        "#                         if track_title.lower() in found_title and artist_name.lower() in found_artist:\n",
        "#                             album_name = track_info['album']['title']\n",
        "\n",
        "#                             # Mendapatkan detail album untuk genre\n",
        "#                             album_id = track_info['album']['id']\n",
        "#                             album_url = f\"https://api.deezer.com/album/{album_id}\"\n",
        "#                             album_response = requests.get(album_url, timeout=5)\n",
        "\n",
        "#                             if album_response.status_code == 200:\n",
        "#                                 album_data = album_response.json()\n",
        "#                                 genre = album_data.get('genres', {}).get('data', [])\n",
        "#                                 genre_names = [g['name'] for g in genre]\n",
        "\n",
        "#                                 if genre_names:\n",
        "#                                     the_genre.append(genre_names[0])\n",
        "#                                     return genre_names[0]\n",
        "#                                 else:\n",
        "#                                     the_genre.append('None')\n",
        "#                                     return None\n",
        "#                             else:\n",
        "#                                 print(\"Album data not found on Deezer.\")\n",
        "#                                 the_genre.append('None')\n",
        "#                                 return None\n",
        "\n",
        "#                     print(\"No exact match found for the track and artist on Deezer.\")\n",
        "#                     the_genre.append('None')\n",
        "#                     return None\n",
        "#                 else:\n",
        "#                     print(\"Track not found on Deezer.\")\n",
        "#                     the_genre.append('None')\n",
        "#                     return None\n",
        "#             elif response.status_code == 429:\n",
        "#                 print(\"Rate limit hit. Waiting for 60 seconds...\")\n",
        "#                 time.sleep(60)  # Tunggu 60 detik jika rate limit terpenuhi\n",
        "#             else:\n",
        "#                 print(f\"HTTP Error: {response.status_code}\")\n",
        "#                 the_genre.append('None')\n",
        "#                 return None\n",
        "\n",
        "#         except requests.RequestException as e:\n",
        "#             print(f\"Request error ({e}), retrying... [{attempt+1}/{retry}]\")\n",
        "#             time.sleep(2)  # Jeda sebelum mencoba lagi\n",
        "\n",
        "#     print(\"Max retries reached. Skipping this track.\")\n",
        "#     the_genre.append('None')\n",
        "#     return None\n",
        "\n",
        "# # Fungsi baru untuk memproses semua data dari CSV\n",
        "# def get_mbids_from_csv(file_path, max_rows=None):\n",
        "#     df = pd.read_csv(file_path)\n",
        "#     mbid_results = {}\n",
        "\n",
        "#     if max_rows:\n",
        "#         df = df.head(max_rows)\n",
        "\n",
        "#     for index, row in tqdm(df.iterrows(), total=len(df), desc=\"Processing tracks\"):\n",
        "#         artist_name = row['Artist']\n",
        "#         track_title = row['Cleaned Title']\n",
        "#         mbid = get_genre_from_deezer(artist_name, track_title)\n",
        "#         mbid_results[(artist_name, track_title)] = mbid\n",
        "#         time.sleep(0.2)  # Tambahkan jeda untuk menghindari rate limiting\n",
        "\n",
        "#     return mbid_results\n",
        "\n",
        "# # Contoh penggunaan\n",
        "# csv_file_path = './clean_single_songs.csv'\n",
        "# mbid_results = get_mbids_from_csv(csv_file_path, max_rows=11451)  # Bisa juga max_rows=None untuk semua data\n",
        "\n",
        "# print(\"MBID Results:\", mbid_results)\n",
        "# print(\"Genres List:\", the_genre)\n"
      ]
    },
    {
      "cell_type": "code",
      "execution_count": null,
      "metadata": {
        "id": "VmZiGJD2V-gw"
      },
      "outputs": [],
      "source": [
        "#perbaikan\n",
        "#sebelum:\n",
        "# if track_title.lower() in found_title and artist_name.lower() in found_artist:\n",
        "# in hanya memastikan \"Time After Time\" ada di dalam found_title, bukan kecocokan persis.\n",
        "\n",
        "\n",
        "#sesudah\n",
        "# Ganti dengan pencocokan persis:\n",
        "# if track_title.lower() == found_title and artist_name.lower() == found_artist:\n"
      ]
    },
    {
      "cell_type": "code",
      "execution_count": null,
      "metadata": {
        "colab": {
          "base_uri": "https://localhost:8080/"
        },
        "id": "l9V85dfSG9J4",
        "outputId": "af6aede1-21b4-408f-94bd-b8c6f873a7bf"
      },
      "outputs": [
        {
          "name": "stderr",
          "output_type": "stream",
          "text": [
            "\rProcessing tracks:   0%|          | 0/11451 [00:00<?, ?it/s]"
          ]
        },
        {
          "name": "stdout",
          "output_type": "stream",
          "text": [
            "Track not found on Deezer.\n"
          ]
        },
        {
          "name": "stderr",
          "output_type": "stream",
          "text": [
            "\rProcessing tracks:   0%|          | 1/11451 [00:00<2:01:37,  1.57it/s]"
          ]
        },
        {
          "name": "stdout",
          "output_type": "stream",
          "text": [
            "Track not found on Deezer.\n"
          ]
        },
        {
          "name": "stderr",
          "output_type": "stream",
          "text": [
            "\rProcessing tracks:   0%|          | 2/11451 [00:01<1:45:51,  1.80it/s]"
          ]
        },
        {
          "name": "stdout",
          "output_type": "stream",
          "text": [
            "Track not found on Deezer.\n"
          ]
        },
        {
          "name": "stderr",
          "output_type": "stream",
          "text": [
            "\rProcessing tracks:   0%|          | 3/11451 [00:01<1:45:41,  1.81it/s]"
          ]
        },
        {
          "name": "stdout",
          "output_type": "stream",
          "text": [
            "Track not found on Deezer.\n"
          ]
        },
        {
          "name": "stderr",
          "output_type": "stream",
          "text": [
            "Processing tracks:   0%|          | 5/11451 [00:02<1:42:56,  1.85it/s]"
          ]
        },
        {
          "name": "stdout",
          "output_type": "stream",
          "text": [
            "Track not found on Deezer.\n"
          ]
        },
        {
          "name": "stderr",
          "output_type": "stream",
          "text": [
            "\rProcessing tracks:   0%|          | 6/11451 [00:03<1:40:48,  1.89it/s]"
          ]
        },
        {
          "name": "stdout",
          "output_type": "stream",
          "text": [
            "Track not found on Deezer.\n"
          ]
        },
        {
          "name": "stderr",
          "output_type": "stream",
          "text": [
            "\rProcessing tracks:   0%|          | 7/11451 [00:03<1:37:57,  1.95it/s]"
          ]
        },
        {
          "name": "stdout",
          "output_type": "stream",
          "text": [
            "Track not found on Deezer.\n"
          ]
        },
        {
          "name": "stderr",
          "output_type": "stream",
          "text": [
            "\rProcessing tracks:   0%|          | 8/11451 [00:04<1:36:28,  1.98it/s]"
          ]
        },
        {
          "name": "stdout",
          "output_type": "stream",
          "text": [
            "Track not found on Deezer.\n",
            "Track not found on Deezer.\n"
          ]
        },
        {
          "name": "stderr",
          "output_type": "stream",
          "text": [
            "Processing tracks:   0%|          | 10/11451 [00:05<1:51:53,  1.70it/s]"
          ]
        },
        {
          "name": "stdout",
          "output_type": "stream",
          "text": [
            "Track not found on Deezer.\n"
          ]
        },
        {
          "name": "stderr",
          "output_type": "stream",
          "text": [
            "\rProcessing tracks:   0%|          | 10/11451 [00:05<1:45:20,  1.81it/s]\n"
          ]
        },
        {
          "name": "stdout",
          "output_type": "stream",
          "text": [
            "Data berhasil disimpan di ./clean_single_songs_with_genre.csv\n"
          ]
        }
      ],
      "source": [
        "import requests\n",
        "import pandas as pd\n",
        "import time\n",
        "from tqdm import tqdm  \n",
        "\n",
        "def get_genre_from_deezer(artist_name, track_title, retry=3):\n",
        "    \"\"\"\n",
        "    Mengambil genre dari Deezer untuk lagu tertentu berdasarkan nama artis dan judul lagu.\n",
        "    Memastikan judul lagu dan nama artis sesuai untuk menghindari mismatch.\n",
        "    \"\"\"\n",
        "    # Menggunakan Deezer Search API untuk mencari lagu berdasarkan judul dan artis\n",
        "    search_url = f'https://api.deezer.com/search?q=artist:\"{artist_name}\" track:\"{track_title}\"'\n",
        "\n",
        "    for attempt in range(retry):\n",
        "        try:\n",
        "            response = requests.get(search_url, timeout=5)\n",
        "\n",
        "            if response.status_code == 200:\n",
        "                data = response.json()\n",
        "                if data['data']:\n",
        "                    # Cari track dengan judul dan artis yang tepat\n",
        "                    for track_info in data['data']:\n",
        "                        found_title = track_info['title'].strip().lower()\n",
        "                        found_artist = track_info['artist']['name'].strip().lower()\n",
        "\n",
        "                        # Validasi judul dan artis\n",
        "                        if track_title.lower() == found_title and artist_name.lower() == found_artist:\n",
        "                            album_name = track_info['album']['title']\n",
        "\n",
        "                            # Mendapatkan detail album untuk genre\n",
        "                            album_id = track_info['album']['id']\n",
        "                            album_url = f\"https://api.deezer.com/album/{album_id}\"\n",
        "                            album_response = requests.get(album_url, timeout=5)\n",
        "\n",
        "                            if album_response.status_code == 200:\n",
        "                                album_data = album_response.json()\n",
        "                                genre = album_data.get('genres', {}).get('data', [])\n",
        "                                genre_names = [g['name'] for g in genre]\n",
        "\n",
        "                                if genre_names:\n",
        "                                    return genre_names[0]\n",
        "                                else:\n",
        "                                    return 'None'\n",
        "                            else:\n",
        "                                print(\"Album data not found on Deezer.\")\n",
        "                                return 'None'\n",
        "\n",
        "                    print(\"No exact match found for the track and artist on Deezer.\")\n",
        "                    return 'None'\n",
        "                else:\n",
        "                    print(\"Track not found on Deezer.\")\n",
        "                    return 'None'\n",
        "            elif response.status_code == 429:\n",
        "                print(\"Rate limit hit. Waiting for 60 seconds...\")\n",
        "                time.sleep(60)  # Tunggu 60 detik jika rate limit terpenuhi\n",
        "            else:\n",
        "                print(f\"HTTP Error: {response.status_code}\")\n",
        "                return 'None'\n",
        "\n",
        "        except requests.RequestException as e:\n",
        "            print(f\"Request error ({e}), retrying... [{attempt+1}/{retry}]\")\n",
        "            time.sleep(2)  # Jeda sebelum mencoba lagi\n",
        "\n",
        "    print(\"Max retries reached. Skipping this track.\")\n",
        "    return 'None'\n",
        "\n",
        "# Fungsi untuk memproses semua data dari CSV dan menambahkan kolom Genre\n",
        "def add_genre_to_csv(file_path, output_file_path, max_rows=None):\n",
        "    df = pd.read_csv(file_path)\n",
        "\n",
        "    # Tambahkan kolom 'Genre' jika belum ada\n",
        "    if 'Genre' not in df.columns:\n",
        "        df['Genre'] = 'None'\n",
        "\n",
        "    # Proses data dan isi kolom Genre\n",
        "    for index, row in tqdm(df.iterrows(), total=len(df), desc=\"Processing tracks\"):\n",
        "        if max_rows and index >= max_rows:\n",
        "            break\n",
        "\n",
        "        artist_name = row['Main Artist']\n",
        "        track_title = row['Cleaned Title']\n",
        "        genre = get_genre_from_deezer(artist_name, track_title)\n",
        "\n",
        "        df.at[index, 'Genre'] = genre\n",
        "        time.sleep(0.2)  # Tambahkan jeda untuk menghindari rate limiting\n",
        "\n",
        "    # Simpan hasilnya ke file CSV baru\n",
        "    df.to_csv(output_file_path, index=False)\n",
        "    print(f\"Data berhasil disimpan di {output_file_path}\")\n",
        "\n",
        "# Contoh penggunaan\n",
        "input_csv_file_path = './clean_single_songs.csv'\n",
        "output_csv_file_path = './clean_single_songs_with_genre.csv'\n",
        "\n",
        "add_genre_to_csv(input_csv_file_path, output_csv_file_path, max_rows=10)"
      ]
    }
  ],
  "metadata": {
    "colab": {
      "provenance": []
    },
    "kernelspec": {
      "display_name": "Python 3",
      "name": "python3"
    },
    "language_info": {
      "name": "python"
    }
  },
  "nbformat": 4,
  "nbformat_minor": 0
}
